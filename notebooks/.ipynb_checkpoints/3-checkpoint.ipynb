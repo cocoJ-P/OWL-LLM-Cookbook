{
 "cells": [
  {
   "cell_type": "markdown",
   "id": "aa1f537c-8be1-434f-bf1c-2e18c1d525cd",
   "metadata": {},
   "source": [
    "# 💡 MechOnFluid 本体加载与推理演示手册\n",
    "\n",
    "> 本文档旨在系统性展示如何基于 MechOn-Fluid 本体进行 **OWL 本体的加载、推理与可视化分析**。  \n",
    "> 适用于教学演示、模型验证与垂直领域知识工程的入门实践。\n",
    "\n",
    "你将学习以下内容：\n",
    "1. 使用owlready2加载聚合文件-创建world\n",
    "2. 本体-图谱输出 使用networkx\n",
    "3. networkx应用\n",
    "4. (Bonus)Toward GraphRAG\n",
    "\n",
    "---\n",
    "\n",
    "🧑‍💻 文档作者：庞嘉顺  \n",
    "📅 编写日期：2025 年 8 月  \n",
    "📘 项目背景：本 notebook 属于 [OntoPilot] 与 [SessionSync] 项目的模块示范之一，以力学本体 [MechOn] 作为数据集，从零实现LLM逻辑松耦合附件的功能。\n",
    "\n",
    "本体内容：MechOn-Fluid"
   ]
  },
  {
   "cell_type": "markdown",
   "id": "6771d2c9-191a-40e1-8826-c648d57ad48b",
   "metadata": {},
   "source": [
    "<div align=\"center\">\n",
    "    <img src=\"../docs/sessync.png\" width=\"700\" alt=\"sessync logo\" />\n",
    "</div>"
   ]
  },
  {
   "cell_type": "markdown",
   "id": "28c6c853-0cf3-4cf0-98fe-09ef2f20e265",
   "metadata": {},
   "source": [
    "# 1. owlread2 - World\n",
    "\n",
    ">World 是 Owlready2 用来承载 RDF 三元组的容器/数据库。它相当于一个可独立切换的“本体工作区”，里面可以装多份本体，并对这些本体统一做加载、查询、推理、保存等操作。\n",
    "\n",
    "我们可以类比 **World是'RDF/OWL'的虚拟环境**"
   ]
  },
  {
   "cell_type": "code",
   "execution_count": null,
   "id": "b07dd148-8e97-4b25-af3f-6f2bed87afa0",
   "metadata": {},
   "outputs": [],
   "source": []
  }
 ],
 "metadata": {
  "kernelspec": {
   "display_name": "Python 3 (ipykernel)",
   "language": "python",
   "name": "python3"
  },
  "language_info": {
   "codemirror_mode": {
    "name": "ipython",
    "version": 3
   },
   "file_extension": ".py",
   "mimetype": "text/x-python",
   "name": "python",
   "nbconvert_exporter": "python",
   "pygments_lexer": "ipython3",
   "version": "3.11.13"
  }
 },
 "nbformat": 4,
 "nbformat_minor": 5
}
