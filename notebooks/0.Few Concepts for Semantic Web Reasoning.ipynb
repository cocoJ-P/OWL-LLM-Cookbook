{
 "cells": [
  {
   "cell_type": "markdown",
   "id": "617fcb2f-df0f-426c-abd5-82d319ccdb24",
   "metadata": {},
   "source": [
    "# 📚 0 – Few Concepts for Semantic Web Reasoning\n",
    "\n",
    "> 本 Notebook 介绍理解 OWL 推理所需的关键概念，包括语义网基本结构、OWL 本体建模、推理机角色、SHACL 限制等，帮助读者为后续章节打好基础。\n",
    "\n",
    "---\n",
    "\n",
    "你将学习以下内容：\n",
    "1. 将 `.ttl` 文件转换为兼容推理引擎的 `.owl` 格式\n",
    "2. 使用 `Owlready2` 加载本体并调用 `HermiT` 推理引擎\n",
    "3. 提取类层次结构与个体归属关系，并可视化展示\n",
    "4. 理解“显式断言 + 隐式推理”在知识图谱中的价值\n",
    "5. 为后续的 Sessionsync 决策系统或图谱驱动应用奠定基础\n",
    "\n",
    "---\n",
    "\n",
    "🧑‍💻 文档作者：庞嘉顺  \n",
    "📅 编写日期：2025 年 7 月  \n",
    "📘 项目背景：本 notebook 属于 [MechOn] 与 [SessionSync] 项目的基础模块示范之一\n",
    "\n",
    "本体内容：self-defined owl file\n"
   ]
  },
  {
   "cell_type": "code",
   "execution_count": null,
   "id": "565a22a1-d8b1-4ac7-93b8-e6a537a3ed2f",
   "metadata": {},
   "outputs": [],
   "source": []
  }
 ],
 "metadata": {
  "kernelspec": {
   "display_name": "Python 3 (ipykernel)",
   "language": "python",
   "name": "python3"
  },
  "language_info": {
   "codemirror_mode": {
    "name": "ipython",
    "version": 3
   },
   "file_extension": ".py",
   "mimetype": "text/x-python",
   "name": "python",
   "nbconvert_exporter": "python",
   "pygments_lexer": "ipython3",
   "version": "3.11.13"
  }
 },
 "nbformat": 4,
 "nbformat_minor": 5
}
